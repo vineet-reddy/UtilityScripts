{
 "cells": [
  {
   "cell_type": "markdown",
   "id": "19df2d9b-6879-4016-8450-119bfc3f74f4",
   "metadata": {},
   "source": [
    "### Script to Rename MP3 Files Sequentially\n",
    "This Python script renames all `.mp3` files in the specified folder to a sequential numbering scheme with leading zeros (e.g., `001.mp3`, `002.mp3`, etc.).\n",
    "\n",
    "#### Steps:\n",
    "1. Set the folder path where the `.mp3` files are located.\n",
    "2. Filter and sort `.mp3` files alphabetically.\n",
    "3. Rename each file using a three-digit numbering scheme.\n",
    "\n",
    "#### Example:\n",
    "If the folder contains files like:\n",
    "- `songA.mp3`\n",
    "- `songB.mp3`\n",
    "- `songC.mp3`\n",
    "\n",
    "They will be renamed to:\n",
    "- `001.mp3`\n",
    "- `002.mp3`\n",
    "- `003.mp3`\n",
    "\n",
    "The script prints the changes for each renamed file."
   ]
  },
  {
   "cell_type": "code",
   "execution_count": 11,
   "id": "621f3eb7-22b1-42aa-b89b-78b0995a8c0f",
   "metadata": {},
   "outputs": [
    {
     "name": "stdout",
     "output_type": "stream",
     "text": [
      "Renamed: CD_1_Track_01.mp3 -> 001.mp3\n",
      "Renamed: CD_1_Track_02.mp3 -> 002.mp3\n",
      "Renamed: CD_1_Track_03.mp3 -> 003.mp3\n",
      "Renamed: CD_1_Track_04.mp3 -> 004.mp3\n",
      "Renamed: CD_1_Track_05.mp3 -> 005.mp3\n",
      "Renamed: CD_1_Track_06.mp3 -> 006.mp3\n",
      "Renamed: CD_1_Track_07.mp3 -> 007.mp3\n",
      "Renamed: CD_1_Track_08.mp3 -> 008.mp3\n",
      "Renamed: CD_1_Track_09.mp3 -> 009.mp3\n",
      "Renamed: CD_1_Track_10.mp3 -> 010.mp3\n",
      "Renamed: CD_1_Track_11.mp3 -> 011.mp3\n",
      "Renamed: CD_1_Track_12.mp3 -> 012.mp3\n",
      "Renamed: CD_1_Track_13.mp3 -> 013.mp3\n",
      "Renamed: CD_1_Track_14.mp3 -> 014.mp3\n",
      "Renamed: CD_2_Track_01.mp3 -> 015.mp3\n",
      "Renamed: CD_2_Track_02.mp3 -> 016.mp3\n",
      "Renamed: CD_2_Track_03.mp3 -> 017.mp3\n",
      "Renamed: CD_2_Track_04.mp3 -> 018.mp3\n",
      "Renamed: CD_2_Track_05.mp3 -> 019.mp3\n",
      "Renamed: CD_2_Track_06.mp3 -> 020.mp3\n",
      "Renamed: CD_2_Track_07.mp3 -> 021.mp3\n",
      "Renamed: CD_2_Track_08.mp3 -> 022.mp3\n",
      "Renamed: CD_2_Track_09.mp3 -> 023.mp3\n",
      "Renamed: CD_2_Track_10.mp3 -> 024.mp3\n",
      "Renamed: CD_2_Track_11.mp3 -> 025.mp3\n",
      "Renamed: CD_3_Track_01.mp3 -> 026.mp3\n",
      "Renamed: CD_3_Track_02.mp3 -> 027.mp3\n",
      "Renamed: CD_3_Track_03.mp3 -> 028.mp3\n",
      "Renamed: CD_3_Track_04.mp3 -> 029.mp3\n",
      "Renamed: CD_3_Track_05.mp3 -> 030.mp3\n",
      "Renamed: CD_3_Track_06.mp3 -> 031.mp3\n",
      "Renamed: CD_3_Track_07.mp3 -> 032.mp3\n",
      "Renamed: CD_3_Track_08.mp3 -> 033.mp3\n",
      "Renamed: CD_3_Track_09.mp3 -> 034.mp3\n",
      "Renamed: CD_4_Track_01.mp3 -> 035.mp3\n",
      "Renamed: CD_4_Track_02.mp3 -> 036.mp3\n",
      "Renamed: CD_4_Track_03.mp3 -> 037.mp3\n",
      "Renamed: CD_4_Track_04.mp3 -> 038.mp3\n",
      "Renamed: CD_4_Track_05.mp3 -> 039.mp3\n",
      "Renamed: CD_4_Track_06.mp3 -> 040.mp3\n",
      "Renamed: CD_4_Track_07.mp3 -> 041.mp3\n",
      "Renamed: CD_4_Track_08.mp3 -> 042.mp3\n",
      "Renamed: CD_4_Track_09.mp3 -> 043.mp3\n",
      "Renamed: CD_4_Track_10.mp3 -> 044.mp3\n",
      "Renamed: CD_4_Track_11.mp3 -> 045.mp3\n"
     ]
    }
   ],
   "source": [
    "import os\n",
    "\n",
    "# Set the path to your folder\n",
    "folder_path = \"/Users/vineetreddy/Downloads/example/new\"\n",
    "\n",
    "# List all MP3 files and sort them alphabetically\n",
    "files = sorted([f for f in os.listdir(folder_path) if f.endswith(\".mp3\")])\n",
    "\n",
    "# Rename files to a single numbering scheme\n",
    "for index, filename in enumerate(files, start=1):\n",
    "    # Format the new filename with leading zeros (e.g., 001.mp3, 002.mp3)\n",
    "    new_filename = f\"{index:03d}.mp3\"\n",
    "    \n",
    "    # Rename the file\n",
    "    old_path = os.path.join(folder_path, filename)\n",
    "    new_path = os.path.join(folder_path, new_filename)\n",
    "    os.rename(old_path, new_path)\n",
    "    print(f\"Renamed: {filename} -> {new_filename}\")"
   ]
  },
  {
   "cell_type": "code",
   "execution_count": null,
   "id": "bd42d5e0-5563-49b7-877f-6d92bea8a4b2",
   "metadata": {},
   "outputs": [],
   "source": []
  }
 ],
 "metadata": {
  "kernelspec": {
   "display_name": "Python 3 (ipykernel)",
   "language": "python",
   "name": "python3"
  },
  "language_info": {
   "codemirror_mode": {
    "name": "ipython",
    "version": 3
   },
   "file_extension": ".py",
   "mimetype": "text/x-python",
   "name": "python",
   "nbconvert_exporter": "python",
   "pygments_lexer": "ipython3",
   "version": "3.12.4"
  }
 },
 "nbformat": 4,
 "nbformat_minor": 5
}
