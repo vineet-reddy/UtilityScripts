{
 "cells": [
  {
   "cell_type": "markdown",
   "id": "4df29b97-45ad-4ab0-90af-92e71f949016",
   "metadata": {},
   "source": [
    "# Organize MP3 Files\n",
    "\n",
    "This script moves all MP3 files from a source directory to a destination folder, ensuring efficient organization.\n",
    "\n",
    "### Key Features\n",
    "- **Directory Validation**: Checks if the source exists and creates the destination folder if needed.\n",
    "- **File Moving**: \n",
    "  - Moves `.mp3` files to the destination.\n",
    "  - Resolves filename conflicts by appending `_duplicate` to duplicate files.\n",
    "- **Summary**: Displays the number of files moved or notifies if no MP3 files were found.\n",
    "\n",
    "### Usage\n",
    "1. Run the script.\n",
    "2. Enter the source and destination directory paths when prompted.\n",
    "3. The script processes the files and logs the results.\n",
    "\n",
    "This tool is ideal for managing and organizing MP3 collections efficiently.\n"
   ]
  },
  {
   "cell_type": "code",
   "execution_count": null,
   "id": "98497984-0650-4a59-819f-cf126c71dd5e",
   "metadata": {},
   "outputs": [],
   "source": [
    "import os\n",
    "import shutil\n",
    "\n",
    "def move_mp3_files_to_general_folder(source_directory, destination_directory):\n",
    "    # Check if source and destination directories exist\n",
    "    if not os.path.exists(source_directory):\n",
    "        print(f\"The source directory '{source_directory}' does not exist.\")\n",
    "        return\n",
    "    if not os.path.exists(destination_directory):\n",
    "        os.makedirs(destination_directory)\n",
    "        print(f\"Created destination directory: {destination_directory}\")\n",
    "    \n",
    "    # Counter for moved files\n",
    "    moved_files_count = 0\n",
    "    \n",
    "    # Walk through the source directory and move mp3 files\n",
    "    for root, dirs, files in os.walk(source_directory):\n",
    "        for file in files:\n",
    "            if file.endswith(\".mp3\"):\n",
    "                old_path = os.path.join(root, file)\n",
    "                new_path = os.path.join(destination_directory, file)\n",
    "                \n",
    "                # Check for name conflicts and resolve them\n",
    "                if os.path.exists(new_path):\n",
    "                    file_name, file_extension = os.path.splitext(file)\n",
    "                    new_path = os.path.join(destination_directory, f\"{file_name}_duplicate{file_extension}\")\n",
    "                \n",
    "                shutil.move(old_path, new_path)\n",
    "                print(f\"Moved: {old_path} -> {new_path}\")\n",
    "                moved_files_count += 1\n",
    "\n",
    "    # Summary\n",
    "    if moved_files_count == 0:\n",
    "        print(f\"No MP3 files found in the directory '{source_directory}'.\")\n",
    "    else:\n",
    "        print(f\"Moved {moved_files_count} MP3 file(s) to the folder '{destination_directory}'.\")\n",
    "\n",
    "# Prompt the user for source and destination paths\n",
    "source_directory = input(\"Enter the source directory containing the MP3 files: \").strip()\n",
    "destination_directory = input(\"Enter the destination directory to move the MP3 files: \").strip()\n",
    "\n",
    "move_mp3_files_to_general_folder(source_directory, destination_directory)\n"
   ]
  }
 ],
 "metadata": {
  "kernelspec": {
   "display_name": "Python 3 (ipykernel)",
   "language": "python",
   "name": "python3"
  },
  "language_info": {
   "codemirror_mode": {
    "name": "ipython",
    "version": 3
   },
   "file_extension": ".py",
   "mimetype": "text/x-python",
   "name": "python",
   "nbconvert_exporter": "python",
   "pygments_lexer": "ipython3",
   "version": "3.12.4"
  }
 },
 "nbformat": 4,
 "nbformat_minor": 5
}
