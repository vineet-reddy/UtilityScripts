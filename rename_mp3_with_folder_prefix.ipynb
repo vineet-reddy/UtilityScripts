{
 "cells": [
  {
   "cell_type": "markdown",
   "id": "3e3fb745-cb3b-4094-a61c-0f3a552d91e9",
   "metadata": {},
   "source": [
    "# Rename MP3 Files with Folder Prefix\n",
    "\n",
    "This script renames all `.mp3` files in a specified directory by prefixing them with the name of their containing folder.\n",
    "\n",
    "### Features\n",
    "- **Directory Validation**: Checks if the provided directory exists.\n",
    "- **Automated Renaming**:\n",
    "  - Appends the folder name as a prefix to each `.mp3` file.\n",
    "  - Logs renamed files during processing.\n",
    "- **Summary**: Reports the total number of files renamed or notifies if no `.mp3` files were found.\n",
    "\n",
    "### Usage\n",
    "1. Run the script.\n",
    "2. Provide the path to the directory containing the MP3 files.\n",
    "3. The script will rename the files and display the results."
   ]
  },
  {
   "cell_type": "code",
   "execution_count": 3,
   "id": "42cdf055-4d83-42f8-9a26-98cf6d96d4a6",
   "metadata": {},
   "outputs": [
    {
     "name": "stdin",
     "output_type": "stream",
     "text": [
      "Enter the path to the directory containing the MP3 files:  /Users/vineetreddy/Downloads/viktor\n"
     ]
    },
    {
     "name": "stdout",
     "output_type": "stream",
     "text": [
      "Renamed: /Users/vineetreddy/Downloads/viktor/CD 1/Track 08.mp3 -> /Users/vineetreddy/Downloads/viktor/CD 1/CD 1_Track 08.mp3\n",
      "Renamed: /Users/vineetreddy/Downloads/viktor/CD 1/Track 09.mp3 -> /Users/vineetreddy/Downloads/viktor/CD 1/CD 1_Track 09.mp3\n",
      "Renamed: /Users/vineetreddy/Downloads/viktor/CD 1/Track 07.mp3 -> /Users/vineetreddy/Downloads/viktor/CD 1/CD 1_Track 07.mp3\n",
      "Renamed: /Users/vineetreddy/Downloads/viktor/CD 1/Track 13.mp3 -> /Users/vineetreddy/Downloads/viktor/CD 1/CD 1_Track 13.mp3\n",
      "Renamed: /Users/vineetreddy/Downloads/viktor/CD 1/Track 12.mp3 -> /Users/vineetreddy/Downloads/viktor/CD 1/CD 1_Track 12.mp3\n",
      "Renamed: /Users/vineetreddy/Downloads/viktor/CD 1/Track 06.mp3 -> /Users/vineetreddy/Downloads/viktor/CD 1/CD 1_Track 06.mp3\n",
      "Renamed: /Users/vineetreddy/Downloads/viktor/CD 1/Track 10.mp3 -> /Users/vineetreddy/Downloads/viktor/CD 1/CD 1_Track 10.mp3\n",
      "Renamed: /Users/vineetreddy/Downloads/viktor/CD 1/Track 04.mp3 -> /Users/vineetreddy/Downloads/viktor/CD 1/CD 1_Track 04.mp3\n",
      "Renamed: /Users/vineetreddy/Downloads/viktor/CD 1/Track 05.mp3 -> /Users/vineetreddy/Downloads/viktor/CD 1/CD 1_Track 05.mp3\n",
      "Renamed: /Users/vineetreddy/Downloads/viktor/CD 1/Track 11.mp3 -> /Users/vineetreddy/Downloads/viktor/CD 1/CD 1_Track 11.mp3\n",
      "Renamed: /Users/vineetreddy/Downloads/viktor/CD 1/Track 01.mp3 -> /Users/vineetreddy/Downloads/viktor/CD 1/CD 1_Track 01.mp3\n",
      "Renamed: /Users/vineetreddy/Downloads/viktor/CD 1/Track 14.mp3 -> /Users/vineetreddy/Downloads/viktor/CD 1/CD 1_Track 14.mp3\n",
      "Renamed: /Users/vineetreddy/Downloads/viktor/CD 1/Track 02.mp3 -> /Users/vineetreddy/Downloads/viktor/CD 1/CD 1_Track 02.mp3\n",
      "Renamed: /Users/vineetreddy/Downloads/viktor/CD 1/Track 03.mp3 -> /Users/vineetreddy/Downloads/viktor/CD 1/CD 1_Track 03.mp3\n",
      "Renamed: /Users/vineetreddy/Downloads/viktor/CD 3/Track 5.mp3 -> /Users/vineetreddy/Downloads/viktor/CD 3/CD 3_Track 5.mp3\n",
      "Renamed: /Users/vineetreddy/Downloads/viktor/CD 3/Track 4.mp3 -> /Users/vineetreddy/Downloads/viktor/CD 3/CD 3_Track 4.mp3\n",
      "Renamed: /Users/vineetreddy/Downloads/viktor/CD 3/Track 6.mp3 -> /Users/vineetreddy/Downloads/viktor/CD 3/CD 3_Track 6.mp3\n",
      "Renamed: /Users/vineetreddy/Downloads/viktor/CD 3/Track 7.mp3 -> /Users/vineetreddy/Downloads/viktor/CD 3/CD 3_Track 7.mp3\n",
      "Renamed: /Users/vineetreddy/Downloads/viktor/CD 3/Track 3.mp3 -> /Users/vineetreddy/Downloads/viktor/CD 3/CD 3_Track 3.mp3\n",
      "Renamed: /Users/vineetreddy/Downloads/viktor/CD 3/Track 2.mp3 -> /Users/vineetreddy/Downloads/viktor/CD 3/CD 3_Track 2.mp3\n",
      "Renamed: /Users/vineetreddy/Downloads/viktor/CD 3/Track 1.mp3 -> /Users/vineetreddy/Downloads/viktor/CD 3/CD 3_Track 1.mp3\n",
      "Renamed: /Users/vineetreddy/Downloads/viktor/CD 3/Track 9.mp3 -> /Users/vineetreddy/Downloads/viktor/CD 3/CD 3_Track 9.mp3\n",
      "Renamed: /Users/vineetreddy/Downloads/viktor/CD 3/Track 8.mp3 -> /Users/vineetreddy/Downloads/viktor/CD 3/CD 3_Track 8.mp3\n",
      "Renamed: /Users/vineetreddy/Downloads/viktor/CD 4/Track 08.mp3 -> /Users/vineetreddy/Downloads/viktor/CD 4/CD 4_Track 08.mp3\n",
      "Renamed: /Users/vineetreddy/Downloads/viktor/CD 4/Track 09.mp3 -> /Users/vineetreddy/Downloads/viktor/CD 4/CD 4_Track 09.mp3\n",
      "Renamed: /Users/vineetreddy/Downloads/viktor/CD 4/Track 07.mp3 -> /Users/vineetreddy/Downloads/viktor/CD 4/CD 4_Track 07.mp3\n",
      "Renamed: /Users/vineetreddy/Downloads/viktor/CD 4/Track 06.mp3 -> /Users/vineetreddy/Downloads/viktor/CD 4/CD 4_Track 06.mp3\n",
      "Renamed: /Users/vineetreddy/Downloads/viktor/CD 4/Track 10.mp3 -> /Users/vineetreddy/Downloads/viktor/CD 4/CD 4_Track 10.mp3\n",
      "Renamed: /Users/vineetreddy/Downloads/viktor/CD 4/Track 04.mp3 -> /Users/vineetreddy/Downloads/viktor/CD 4/CD 4_Track 04.mp3\n",
      "Renamed: /Users/vineetreddy/Downloads/viktor/CD 4/Track 05.mp3 -> /Users/vineetreddy/Downloads/viktor/CD 4/CD 4_Track 05.mp3\n",
      "Renamed: /Users/vineetreddy/Downloads/viktor/CD 4/Track 11.mp3 -> /Users/vineetreddy/Downloads/viktor/CD 4/CD 4_Track 11.mp3\n",
      "Renamed: /Users/vineetreddy/Downloads/viktor/CD 4/Track 01.mp3 -> /Users/vineetreddy/Downloads/viktor/CD 4/CD 4_Track 01.mp3\n",
      "Renamed: /Users/vineetreddy/Downloads/viktor/CD 4/Track 02.mp3 -> /Users/vineetreddy/Downloads/viktor/CD 4/CD 4_Track 02.mp3\n",
      "Renamed: /Users/vineetreddy/Downloads/viktor/CD 4/Track 03.mp3 -> /Users/vineetreddy/Downloads/viktor/CD 4/CD 4_Track 03.mp3\n",
      "Renamed: /Users/vineetreddy/Downloads/viktor/CD 2/Track 08.mp3 -> /Users/vineetreddy/Downloads/viktor/CD 2/CD 2_Track 08.mp3\n",
      "Renamed: /Users/vineetreddy/Downloads/viktor/CD 2/Track 09.mp3 -> /Users/vineetreddy/Downloads/viktor/CD 2/CD 2_Track 09.mp3\n",
      "Renamed: /Users/vineetreddy/Downloads/viktor/CD 2/Track 07.mp3 -> /Users/vineetreddy/Downloads/viktor/CD 2/CD 2_Track 07.mp3\n",
      "Renamed: /Users/vineetreddy/Downloads/viktor/CD 2/Track 06.mp3 -> /Users/vineetreddy/Downloads/viktor/CD 2/CD 2_Track 06.mp3\n",
      "Renamed: /Users/vineetreddy/Downloads/viktor/CD 2/Track 10.mp3 -> /Users/vineetreddy/Downloads/viktor/CD 2/CD 2_Track 10.mp3\n",
      "Renamed: /Users/vineetreddy/Downloads/viktor/CD 2/Track 04.mp3 -> /Users/vineetreddy/Downloads/viktor/CD 2/CD 2_Track 04.mp3\n",
      "Renamed: /Users/vineetreddy/Downloads/viktor/CD 2/Track 05.mp3 -> /Users/vineetreddy/Downloads/viktor/CD 2/CD 2_Track 05.mp3\n",
      "Renamed: /Users/vineetreddy/Downloads/viktor/CD 2/Track 11.mp3 -> /Users/vineetreddy/Downloads/viktor/CD 2/CD 2_Track 11.mp3\n",
      "Renamed: /Users/vineetreddy/Downloads/viktor/CD 2/Track 01.mp3 -> /Users/vineetreddy/Downloads/viktor/CD 2/CD 2_Track 01.mp3\n",
      "Renamed: /Users/vineetreddy/Downloads/viktor/CD 2/Track 02.mp3 -> /Users/vineetreddy/Downloads/viktor/CD 2/CD 2_Track 02.mp3\n",
      "Renamed: /Users/vineetreddy/Downloads/viktor/CD 2/Track 03.mp3 -> /Users/vineetreddy/Downloads/viktor/CD 2/CD 2_Track 03.mp3\n",
      "Renamed 45 MP3 file(s) in the directory '/Users/vineetreddy/Downloads/viktor'.\n"
     ]
    }
   ],
   "source": [
    "import os\n",
    "\n",
    "def rename_mp3_files(directory):\n",
    "    # Check if the directory exists\n",
    "    if not os.path.exists(directory):\n",
    "        print(f\"The path '{directory}' does not exist. Please check the path and try again.\")\n",
    "        return\n",
    "\n",
    "    # Walk through the directory and process files\n",
    "    renamed_files_count = 0\n",
    "    for root, dirs, files in os.walk(directory):\n",
    "        folder_name = os.path.basename(root)\n",
    "        for file in files:\n",
    "            if file.endswith(\".mp3\"):\n",
    "                old_path = os.path.join(root, file)\n",
    "                new_file_name = f\"{folder_name}_{file}\"\n",
    "                new_path = os.path.join(root, new_file_name)\n",
    "                os.rename(old_path, new_path)\n",
    "                print(f\"Renamed: {old_path} -> {new_path}\")\n",
    "                renamed_files_count += 1\n",
    "\n",
    "    # Summary\n",
    "    if renamed_files_count == 0:\n",
    "        print(f\"No MP3 files found in the directory '{directory}'.\")\n",
    "    else:\n",
    "        print(f\"Renamed {renamed_files_count} MP3 file(s) in the directory '{directory}'.\")\n",
    "\n",
    "# Prompt the user for the path\n",
    "base_directory = input(\"Enter the path to the directory containing the MP3 files: \").strip()\n",
    "rename_mp3_files(base_directory)\n"
   ]
  },
  {
   "cell_type": "code",
   "execution_count": null,
   "id": "830702f3-7fc9-4b8a-b659-a0704daed3ec",
   "metadata": {},
   "outputs": [],
   "source": []
  }
 ],
 "metadata": {
  "kernelspec": {
   "display_name": "Python 3 (ipykernel)",
   "language": "python",
   "name": "python3"
  },
  "language_info": {
   "codemirror_mode": {
    "name": "ipython",
    "version": 3
   },
   "file_extension": ".py",
   "mimetype": "text/x-python",
   "name": "python",
   "nbconvert_exporter": "python",
   "pygments_lexer": "ipython3",
   "version": "3.12.4"
  }
 },
 "nbformat": 4,
 "nbformat_minor": 5
}
